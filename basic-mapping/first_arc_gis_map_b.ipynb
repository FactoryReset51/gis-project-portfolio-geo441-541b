{
  "nbformat": 4,
  "nbformat_minor": 0,
  "metadata": {
    "colab": {
      "provenance": [],
      "include_colab_link": true
    },
    "kernelspec": {
      "name": "python3",
      "display_name": "Python 3"
    },
    "language_info": {
      "name": "python"
    }
  },
  "cells": [
    {
      "cell_type": "markdown",
      "metadata": {
        "id": "view-in-github",
        "colab_type": "text"
      },
      "source": [
        "<a href=\"https://colab.research.google.com/github/FactoryReset51/gis-project-portfolio-geo441-541b/blob/main/basic-mapping/first_arc_gis_map_b.ipynb\" target=\"_parent\"><img src=\"https://colab.research.google.com/assets/colab-badge.svg\" alt=\"Open In Colab\"/></a>"
      ]
    },
    {
      "cell_type": "markdown",
      "source": [
        "## **GEO 441B/541B Week 1 Assignment: Introduction to ArcGIS Pro GUI**"
      ],
      "metadata": {
        "id": "C0ymCPR5aSHN"
      }
    },
    {
      "cell_type": "markdown",
      "source": [
        "🚀 Created by Braden Alexander\n",
        "\n",
        "08/29/2024"
      ],
      "metadata": {
        "id": "Pt_OREXFPvkr"
      }
    },
    {
      "cell_type": "markdown",
      "source": [
        "### **Get ready to start**\n",
        "\n",
        "- Click **`File/Save a copy in Drive`** to save a copy of this notebook to my own Google Drive"
      ],
      "metadata": {
        "id": "CMQN_pgaHVLO"
      }
    },
    {
      "cell_type": "markdown",
      "source": [
        "### **Create my first map using ArcGIS Pro**\n",
        "\n",
        "1. **Instructions**\n",
        "   - Follow mapping instructions from [this Canvas file](https://miamioh.instructure.com/courses/218994/files/32640807?wrap=1)\n",
        "   - Mapping instructions are adapted from *Lab 1: Introduction to ArcGIS Pro* in [GIS Fundamentals Resources page](https://www.gisfundamentals.org/resources)\n",
        "\n",
        "2. **Share map**\n",
        "   - Upload the PNG file exported from ArcGIS Pro to my Google Drive folder for Week 1 assignment\n",
        "   - Change Share privilege to make this file viewable by anyone with a link\n",
        "   - Copy the sharable link\n",
        "\n",
        "3. **Obtain a sharable link**\n",
        "\n",
        "   - The default link I get for this PNG file is listed below but it cannot be directly used in Notebook to show the picture correctly\n",
        "```\n",
        "[https://drive.google.com/file/d/1mpvVHMZXOuVqhu4l7-TFk4RkD-f65MX3/view?usp=sharing]\n",
        "```\n",
        "   - I made some changes to the default sharable link:\n",
        "    - Keep the **`1A2B3C4D5E6F7G8H9I0J`** part because this is the unique file ID for the picture\n",
        "    - Deleted **`/view?usp=sharing`** at the end of the link\n",
        "    - Replaced **`/file/d/`** with **`/uc?export=view&id=`**\n",
        "   - Here is an example I referred to:\n",
        "    - Default sharable link\n",
        "```\n",
        "https://drive.google.com/file/d/1A2B3C4D5E6F7G8H9I0J/view?usp=sharing\n",
        "```\n",
        "    - The direct link for view from this example would be\n",
        "```\n",
        "https://drive.google.com/uc?export=view&id=1A2B3C4D5E6F7G8H9I0J\n",
        "```\n",
        "   - The link below is the correct one I need to use in the next section\n",
        "```\n",
        "[https://drive.google.com/uc?export=view&id=1mpvVHMZXOuVqhu4l7-TFk4RkD-f65MX3]\n",
        "```\n",
        "\n",
        "\n",
        "4. **Map**\n",
        "\n",
        "   ![Map](https://drive.google.com/uc?export=view&id=1mpvVHMZXOuVqhu4l7-TFk4RkD-f65MX3) <!-- Example Image Placeholder -->"
      ],
      "metadata": {
        "id": "WVs4J1jQbESU"
      }
    },
    {
      "cell_type": "markdown",
      "source": [
        "### **Reflection on my first experience with ArcGIS Pro**\n",
        "\n",
        "- Overall, I spent 2 hours to finish creating my first map\n",
        "- Here is a table showing things that I feel excited and challenging in my first experience working in ArcGIS Pro\n",
        "\n",
        "| Things I'm excited about      | Things challenging for me  |\n",
        "| ----------------------------- | -------------------------- |\n",
        "| I enjoyed the ease of changing properties of different shape files compared to QGIS.    | Map layout from a design standpoint.   |\n",
        "| The GUI seems pretty clean and easy to use.     | Map Frame feature, aligning features I want within the frame.    |\n",
        "| Making new layouts seems straightforward.      | Saving files; file management  |\n",
        "\n",
        "- Here is how I rate my first experience working in ArcGIS Pro\n",
        "  - Data important and management\n",
        "    - I found these to be relatively simple in ArcGIS. It's not super difficult to import data into a project and the layers panel on the left side of the screen keeps everything well organized. I think this is one of the easier aspects of the software, at least working with only a few layers as in this assignment.\n",
        "  - Map creation and annotation\n",
        "    - I found map creation to be slightly challenging due to the Map Frame feature. The frame didn't always encompass the whole map or specific features that I wanted to showcase. Changing the shape of the frame resulted in movement of the map in addition, which made that process frustrating at times. Otherwise, adding map features such as the legend, title, or scale bar was pretty simple and didn't pose much trouble.\n",
        "  - Navigate the software using its GUI\n",
        "    - The software was fairly easy to navigate. The GUI is well-organized with the different tabs and I was usually able to find the function I was looking for quickly. When I wasn't able to, the search bar serviced just as well in locating the function I needed."
      ],
      "metadata": {
        "id": "i4RTLellbUh7"
      }
    },
    {
      "cell_type": "markdown",
      "source": [
        "### **Save and share this notebook**\n",
        "\n",
        "- I made this notebook viewable by anyone with the link\n",
        "\n",
        "![Share Notebook](https://drive.google.com/uc?export=view&id=1K4a3saeAXrzKcB4fkivkjUmLLWJ1R7oS)\n",
        "\n",
        "- Then I copied this link as my submission to Assignment Week 1"
      ],
      "metadata": {
        "id": "kkgukjDcXsqC"
      }
    },
    {
      "cell_type": "markdown",
      "source": [
        "### **Reference**\n",
        "\n",
        "- [Markdown cheat sheet](https://www.markdownguide.org/cheat-sheet/)\n"
      ],
      "metadata": {
        "id": "fvMbEX89YLeY"
      }
    }
  ]
}